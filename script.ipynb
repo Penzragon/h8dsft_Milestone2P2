{
 "cells": [
  {
   "cell_type": "markdown",
   "metadata": {},
   "source": [
    "# Milestone 2\n",
    "\n",
    "---\n",
    "\n",
    "Milestones ini dibuat guna mengevaluasi pembelajaran pada Hacktiv8 Data Science Full Time Program Phase 2 khususnya pada Deep Learning."
   ]
  },
  {
   "cell_type": "markdown",
   "metadata": {},
   "source": [
    "## Introduction"
   ]
  },
  {
   "cell_type": "markdown",
   "metadata": {},
   "source": [
    "By [Rifky Aliffa](https://github.com/Penzragon)\n",
    "\n",
    "![Image](https://upload.wikimedia.org/wikipedia/commons/thumb/a/a6/The_Rim_Fire_in_the_Stanislaus_National_Forest_near_in_California_began_on_Aug._17%2C_2013-0004.jpg/1200px-The_Rim_Fire_in_the_Stanislaus_National_Forest_near_in_California_began_on_Aug._17%2C_2013-0004.jpg)"
   ]
  },
  {
   "cell_type": "markdown",
   "metadata": {},
   "source": [
    "### Dataset"
   ]
  },
  {
   "cell_type": "markdown",
   "metadata": {},
   "source": [
    "Pada project ini dataset yang digunakan adalah berbagai macam gambar kebakaran dan api. Dataset dapat dilihat di [Kaggle](https://www.kaggle.com/datasets/phylake1337/fire-dataset)."
   ]
  },
  {
   "cell_type": "markdown",
   "metadata": {},
   "source": [
    "### Objectives"
   ]
  },
  {
   "cell_type": "markdown",
   "metadata": {},
   "source": [
    "**Milestones 2** ini dibuat guna mengevaluasi Pembelajaran Phase 2 :\n",
    "\n",
    "- Mampu memahami konsep Computer Vision/NLP.\n",
    "- Mampu mempersiapkan data untuk digunakan dalam model Computer Vision/NLP.\n",
    "- Mampu mengimplementasikan Artificial Neural Network dengan data yang ada.\n",
    "- Mampu menganalisis dan menjelaskan layer yang dibuat.\n",
    "\n",
    "Dan tujuan utama dari project ini adalah untuk membuat model CNN yang mampu mendeteksi apakah terjadi kebakaran atau tidak."
   ]
  },
  {
   "cell_type": "markdown",
   "metadata": {},
   "source": [
    "## Import Libraries"
   ]
  },
  {
   "cell_type": "markdown",
   "metadata": {},
   "source": [
    "Pada project ini library yang akan digunakan adalah **Pandas**, **Numpy**, **Matplotlib**, **Seaborn**, **Tensorflow**, **Keras**, dan **Scikit-Learn**."
   ]
  },
  {
   "cell_type": "code",
   "execution_count": 1,
   "metadata": {},
   "outputs": [],
   "source": [
    "import pandas as pd\n",
    "import numpy as np\n",
    "import matplotlib.pyplot as plt\n",
    "import seaborn as sns\n",
    "import os\n",
    "import tensorflow as tf\n",
    "from tensorflow import keras\n",
    "from tensorflow.keras.models import Sequential\n",
    "from tensorflow.keras.layers import Dense, Dropout, Flatten, Conv2D, MaxPooling2D\n",
    "from sklearn.metrics import confusion_matrix, classification_report"
   ]
  },
  {
   "cell_type": "code",
   "execution_count": 2,
   "metadata": {},
   "outputs": [],
   "source": [
    "import warnings\n",
    "warnings.simplefilter(action='ignore', category=FutureWarning)"
   ]
  },
  {
   "cell_type": "markdown",
   "metadata": {},
   "source": [
    "## Data Loading"
   ]
  },
  {
   "cell_type": "markdown",
   "metadata": {},
   "source": [
    "Membuat dataframe yang berisi path dari gambar berikut labelnya."
   ]
  },
  {
   "cell_type": "code",
   "execution_count": 3,
   "metadata": {},
   "outputs": [],
   "source": [
    "# Create an empty dataframe\n",
    "fire = pd.DataFrame(columns=['image', 'label'])\n",
    "\n",
    "# Loop through the folders in the data directory\n",
    "for dirpath, dirnames, filenames in os.walk('dataset/fire_dataset/'):\n",
    "    # Loop through the fire images\n",
    "    for filename in filenames:\n",
    "        fire = fire.append({'image': os.path.join(dirpath, filename), 'label': 'fire'}, ignore_index=True)\n",
    "\n",
    "    # Loop through the non-fire images\n",
    "    for filename in filenames:\n",
    "        fire = fire.append({'image': os.path.join(dirpath, filename), 'label': 'non_fire'}, ignore_index=True)\n",
    "\n",
    "# Shuffle the dataframe\n",
    "fire = fire.sample(frac=1).reset_index(drop=True)"
   ]
  },
  {
   "cell_type": "code",
   "execution_count": 4,
   "metadata": {},
   "outputs": [
    {
     "data": {
      "text/html": [
       "<div>\n",
       "<style scoped>\n",
       "    .dataframe tbody tr th:only-of-type {\n",
       "        vertical-align: middle;\n",
       "    }\n",
       "\n",
       "    .dataframe tbody tr th {\n",
       "        vertical-align: top;\n",
       "    }\n",
       "\n",
       "    .dataframe thead th {\n",
       "        text-align: right;\n",
       "    }\n",
       "</style>\n",
       "<table border=\"1\" class=\"dataframe\">\n",
       "  <thead>\n",
       "    <tr style=\"text-align: right;\">\n",
       "      <th></th>\n",
       "      <th>image</th>\n",
       "      <th>label</th>\n",
       "    </tr>\n",
       "  </thead>\n",
       "  <tbody>\n",
       "    <tr>\n",
       "      <th>0</th>\n",
       "      <td>dataset/fire_dataset/fire_images\\fire.68.png</td>\n",
       "      <td>non_fire</td>\n",
       "    </tr>\n",
       "    <tr>\n",
       "      <th>1</th>\n",
       "      <td>dataset/fire_dataset/fire_images\\fire.373.png</td>\n",
       "      <td>non_fire</td>\n",
       "    </tr>\n",
       "    <tr>\n",
       "      <th>2</th>\n",
       "      <td>dataset/fire_dataset/fire_images\\fire.721.png</td>\n",
       "      <td>non_fire</td>\n",
       "    </tr>\n",
       "    <tr>\n",
       "      <th>3</th>\n",
       "      <td>dataset/fire_dataset/non_fire_images\\non_fire....</td>\n",
       "      <td>non_fire</td>\n",
       "    </tr>\n",
       "    <tr>\n",
       "      <th>4</th>\n",
       "      <td>dataset/fire_dataset/fire_images\\fire.620.png</td>\n",
       "      <td>non_fire</td>\n",
       "    </tr>\n",
       "    <tr>\n",
       "      <th>5</th>\n",
       "      <td>dataset/fire_dataset/fire_images\\fire.351.png</td>\n",
       "      <td>fire</td>\n",
       "    </tr>\n",
       "    <tr>\n",
       "      <th>6</th>\n",
       "      <td>dataset/fire_dataset/fire_images\\fire.735.png</td>\n",
       "      <td>fire</td>\n",
       "    </tr>\n",
       "    <tr>\n",
       "      <th>7</th>\n",
       "      <td>dataset/fire_dataset/fire_images\\fire.315.png</td>\n",
       "      <td>non_fire</td>\n",
       "    </tr>\n",
       "    <tr>\n",
       "      <th>8</th>\n",
       "      <td>dataset/fire_dataset/non_fire_images\\non_fire....</td>\n",
       "      <td>fire</td>\n",
       "    </tr>\n",
       "    <tr>\n",
       "      <th>9</th>\n",
       "      <td>dataset/fire_dataset/fire_images\\fire.145.png</td>\n",
       "      <td>non_fire</td>\n",
       "    </tr>\n",
       "    <tr>\n",
       "      <th>10</th>\n",
       "      <td>dataset/fire_dataset/fire_images\\fire.335.png</td>\n",
       "      <td>fire</td>\n",
       "    </tr>\n",
       "    <tr>\n",
       "      <th>11</th>\n",
       "      <td>dataset/fire_dataset/fire_images\\fire.289.png</td>\n",
       "      <td>non_fire</td>\n",
       "    </tr>\n",
       "    <tr>\n",
       "      <th>12</th>\n",
       "      <td>dataset/fire_dataset/fire_images\\fire.86.png</td>\n",
       "      <td>non_fire</td>\n",
       "    </tr>\n",
       "    <tr>\n",
       "      <th>13</th>\n",
       "      <td>dataset/fire_dataset/fire_images\\fire.350.png</td>\n",
       "      <td>non_fire</td>\n",
       "    </tr>\n",
       "    <tr>\n",
       "      <th>14</th>\n",
       "      <td>dataset/fire_dataset/fire_images\\fire.724.png</td>\n",
       "      <td>fire</td>\n",
       "    </tr>\n",
       "    <tr>\n",
       "      <th>15</th>\n",
       "      <td>dataset/fire_dataset/non_fire_images\\non_fire....</td>\n",
       "      <td>non_fire</td>\n",
       "    </tr>\n",
       "    <tr>\n",
       "      <th>16</th>\n",
       "      <td>dataset/fire_dataset/non_fire_images\\non_fire....</td>\n",
       "      <td>non_fire</td>\n",
       "    </tr>\n",
       "    <tr>\n",
       "      <th>17</th>\n",
       "      <td>dataset/fire_dataset/non_fire_images\\non_fire....</td>\n",
       "      <td>fire</td>\n",
       "    </tr>\n",
       "    <tr>\n",
       "      <th>18</th>\n",
       "      <td>dataset/fire_dataset/fire_images\\fire.76.png</td>\n",
       "      <td>non_fire</td>\n",
       "    </tr>\n",
       "    <tr>\n",
       "      <th>19</th>\n",
       "      <td>dataset/fire_dataset/fire_images\\fire.296.png</td>\n",
       "      <td>fire</td>\n",
       "    </tr>\n",
       "  </tbody>\n",
       "</table>\n",
       "</div>"
      ],
      "text/plain": [
       "                                                image     label\n",
       "0        dataset/fire_dataset/fire_images\\fire.68.png  non_fire\n",
       "1       dataset/fire_dataset/fire_images\\fire.373.png  non_fire\n",
       "2       dataset/fire_dataset/fire_images\\fire.721.png  non_fire\n",
       "3   dataset/fire_dataset/non_fire_images\\non_fire....  non_fire\n",
       "4       dataset/fire_dataset/fire_images\\fire.620.png  non_fire\n",
       "5       dataset/fire_dataset/fire_images\\fire.351.png      fire\n",
       "6       dataset/fire_dataset/fire_images\\fire.735.png      fire\n",
       "7       dataset/fire_dataset/fire_images\\fire.315.png  non_fire\n",
       "8   dataset/fire_dataset/non_fire_images\\non_fire....      fire\n",
       "9       dataset/fire_dataset/fire_images\\fire.145.png  non_fire\n",
       "10      dataset/fire_dataset/fire_images\\fire.335.png      fire\n",
       "11      dataset/fire_dataset/fire_images\\fire.289.png  non_fire\n",
       "12       dataset/fire_dataset/fire_images\\fire.86.png  non_fire\n",
       "13      dataset/fire_dataset/fire_images\\fire.350.png  non_fire\n",
       "14      dataset/fire_dataset/fire_images\\fire.724.png      fire\n",
       "15  dataset/fire_dataset/non_fire_images\\non_fire....  non_fire\n",
       "16  dataset/fire_dataset/non_fire_images\\non_fire....  non_fire\n",
       "17  dataset/fire_dataset/non_fire_images\\non_fire....      fire\n",
       "18       dataset/fire_dataset/fire_images\\fire.76.png  non_fire\n",
       "19      dataset/fire_dataset/fire_images\\fire.296.png      fire"
      ]
     },
     "execution_count": 4,
     "metadata": {},
     "output_type": "execute_result"
    }
   ],
   "source": [
    "fire.head(20)"
   ]
  },
  {
   "cell_type": "markdown",
   "metadata": {},
   "source": [
    "## Exploratory Data Analysis (EDA)"
   ]
  }
 ],
 "metadata": {
  "interpreter": {
   "hash": "112f40161e87cdf99d798de2b86adf76c0b833717b9d65fa1f256b9c887e27bf"
  },
  "kernelspec": {
   "display_name": "Python 3.9.1 64-bit",
   "language": "python",
   "name": "python3"
  },
  "language_info": {
   "codemirror_mode": {
    "name": "ipython",
    "version": 3
   },
   "file_extension": ".py",
   "mimetype": "text/x-python",
   "name": "python",
   "nbconvert_exporter": "python",
   "pygments_lexer": "ipython3",
   "version": "3.9.1"
  },
  "orig_nbformat": 4
 },
 "nbformat": 4,
 "nbformat_minor": 2
}
